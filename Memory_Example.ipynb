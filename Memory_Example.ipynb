{
  "cells": [
    {
      "cell_type": "markdown",
      "metadata": {
        "id": "view-in-github",
        "colab_type": "text"
      },
      "source": [
        "<a href=\"https://colab.research.google.com/github/sargunasaravanan/GenAI-Workouts/blob/main/Memory_Example.ipynb\" target=\"_parent\"><img src=\"https://colab.research.google.com/assets/colab-badge.svg\" alt=\"Open In Colab\"/></a>"
      ]
    },
    {
      "cell_type": "code",
      "execution_count": null,
      "id": "252c846e-242e-4076-b21f-f791023b82d5",
      "metadata": {
        "id": "252c846e-242e-4076-b21f-f791023b82d5"
      },
      "outputs": [],
      "source": [
        "from IPython.display import display\n",
        "import ipywidgets as widgets\n",
        "from langchain.memory import ConversationBufferWindowMemory\n",
        "from langchain.chains import ConversationChain\n",
        "from langchain.chat_models import ChatOpenAI  # or any model you want\n",
        "\n",
        "# 1. Setup memory\n",
        "memory = ConversationBufferWindowMemory(k=3)\n",
        "\n",
        "# 2. Setup LLM (replace with your model)\n",
        "llm = ChatOpenAI(model=\"gpt-3.5-turbo\", temperature=0)\n",
        "\n",
        "# 3. Setup chain\n",
        "conversation = ConversationChain(\n",
        "    llm=llm,\n",
        "    memory=memory,\n",
        "    verbose=True\n",
        ")\n",
        "\n",
        "# 4. Widgets\n",
        "chat_history = widgets.Output()\n",
        "user_input = widgets.Text(placeholder=\"Type your message...\")\n",
        "send_button = widgets.Button(description=\"Send\")\n",
        "\n",
        "# 5. Send button callback\n",
        "def on_send(_):\n",
        "    text = user_input.value.strip()\n",
        "    if not text:\n",
        "        return\n",
        "    with chat_history:\n",
        "        print(f\"User: {text}\")\n",
        "        response = conversation.predict(input=text)\n",
        "        print(f\"Bot: {response}\")\n",
        "    user_input.value = \"\"\n",
        "\n",
        "send_button.on_click(on_send)\n",
        "\n",
        "# 6. Display the chat UI\n",
        "display(chat_history, user_input, send_button)\n",
        "\n",
        "# 7. Function to see memory at any point\n",
        "def show_memory():\n",
        "    return memory.load_memory_variables({})\n",
        "\n"
      ]
    },
    {
      "cell_type": "code",
      "execution_count": null,
      "id": "ae5fdb3a-3adb-4f21-81f1-d14200657153",
      "metadata": {
        "id": "ae5fdb3a-3adb-4f21-81f1-d14200657153",
        "outputId": "df43ed19-a860-4a0e-92be-9978ede59e49"
      },
      "outputs": [
        {
          "data": {
            "text/plain": [
              "{'history': \"Human: Hi\\nAI: Hello! How are you today?\\nHuman: All good\\nAI: That's great to hear! Is there anything specific you'd like to talk about or ask me today?\"}"
            ]
          },
          "execution_count": 2,
          "metadata": {},
          "output_type": "execute_result"
        }
      ],
      "source": [
        "show_memory()"
      ]
    }
  ],
  "metadata": {
    "kernelspec": {
      "display_name": "Python 3 [3.10]",
      "language": "python",
      "name": "python3"
    },
    "language_info": {
      "codemirror_mode": {
        "name": "ipython",
        "version": 3
      },
      "file_extension": ".py",
      "mimetype": "text/x-python",
      "name": "python",
      "nbconvert_exporter": "python",
      "pygments_lexer": "ipython3",
      "version": "3.10.2"
    },
    "colab": {
      "provenance": [],
      "include_colab_link": true
    }
  },
  "nbformat": 4,
  "nbformat_minor": 5
}