{
  "cells": [
    {
      "cell_type": "markdown",
      "metadata": {
        "id": "view-in-github",
        "colab_type": "text"
      },
      "source": [
        "<a href=\"https://colab.research.google.com/github/sargunasaravanan/GenAI-Workouts/blob/main/Dall_E_Gradio_APP.ipynb\" target=\"_parent\"><img src=\"https://colab.research.google.com/assets/colab-badge.svg\" alt=\"Open In Colab\"/></a>"
      ]
    },
    {
      "cell_type": "code",
      "execution_count": 1,
      "id": "a7bbd1c4-34e9-453a-8e11-a415fcc67df3",
      "metadata": {
        "colab": {
          "base_uri": "https://localhost:8080/",
          "height": 610
        },
        "id": "a7bbd1c4-34e9-453a-8e11-a415fcc67df3",
        "outputId": "d1fb8387-9f1b-430a-a453-84eb9d13ae49"
      },
      "outputs": [
        {
          "output_type": "stream",
          "name": "stdout",
          "text": [
            "Colab notebook detected. To show errors in colab notebook, set debug=True in launch()\n",
            "* Running on public URL: https://84ff8886f471d48e7c.gradio.live\n",
            "\n",
            "This share link expires in 1 week. For free permanent hosting and GPU upgrades, run `gradio deploy` from the terminal in the working directory to deploy to Hugging Face Spaces (https://huggingface.co/spaces)\n"
          ]
        },
        {
          "output_type": "display_data",
          "data": {
            "text/plain": [
              "<IPython.core.display.HTML object>"
            ],
            "text/html": [
              "<div><iframe src=\"https://84ff8886f471d48e7c.gradio.live\" width=\"100%\" height=\"500\" allow=\"autoplay; camera; microphone; clipboard-read; clipboard-write;\" frameborder=\"0\" allowfullscreen></iframe></div>"
            ]
          },
          "metadata": {}
        }
      ],
      "source": [
        "import gradio as gr\n",
        "import openai\n",
        "import urllib.request\n",
        "from PIL import Image\n",
        "import io\n",
        "\n",
        "def generate_image(text_prompt):\n",
        "    try:\n",
        "        # Call OpenAI's API to generate an image\n",
        "        response = openai.Image.create(\n",
        "            prompt=text_prompt,\n",
        "            n=1,\n",
        "            size=\"256x256\",\n",
        "        )\n",
        "\n",
        "        # Get the image URL from response\n",
        "        image_url = response[\"data\"][0][\"url\"]\n",
        "\n",
        "        # Download the image and open it\n",
        "        image_data = urllib.request.urlopen(image_url).read()\n",
        "        image = Image.open(io.BytesIO(image_data))\n",
        "\n",
        "        # Convert the image to RGB mode to avoid issues with PNG mode\n",
        "        image = image.convert(\"RGB\")\n",
        "\n",
        "        return image\n",
        "    except Exception as e:\n",
        "        return f\"Error: {str(e)}\"\n",
        "\n",
        "# Define the Gradio interface\n",
        "iface = gr.Interface(\n",
        "    fn=generate_image,\n",
        "    inputs=gr.Textbox(label=\"Enter a Text Prompt\"),\n",
        "    outputs=gr.Image(type=\"pil\", label=\"Generated Image\"),\n",
        "    title=\"Text-to-Image Generator\",\n",
        "    description=\"Enter a text prompt to generate an image using OpenAI's API.\"\n",
        ")\n",
        "\n",
        "# Launch the app\n",
        "if __name__ == \"__main__\":\n",
        "    iface.launch(server_port=7605,share=True)\n"
      ]
    },
    {
      "cell_type": "code",
      "execution_count": 3,
      "id": "585d26e1-1a9f-47c5-be02-6515bbf6d074",
      "metadata": {
        "colab": {
          "base_uri": "https://localhost:8080/",
          "height": 87
        },
        "id": "585d26e1-1a9f-47c5-be02-6515bbf6d074",
        "outputId": "167f6ac1-a055-4db6-911f-e9b2f3e312d1"
      },
      "outputs": [
        {
          "output_type": "execute_result",
          "data": {
            "text/plain": [
              "'Error: \\n\\nYou tried to access openai.Image, but this is no longer supported in openai>=1.0.0 - see the README at https://github.com/openai/openai-python for the API.\\n\\nYou can run `openai migrate` to automatically upgrade your codebase to use the 1.0.0 interface. \\n\\nAlternatively, you can pin your installation to the old version, e.g. `pip install openai==0.28`\\n\\nA detailed migration guide is available here: https://github.com/openai/openai-python/discussions/742\\n'"
            ],
            "application/vnd.google.colaboratory.intrinsic+json": {
              "type": "string"
            }
          },
          "metadata": {},
          "execution_count": 3
        }
      ],
      "source": [
        "generate_image(\"river front\")"
      ]
    }
  ],
  "metadata": {
    "kernelspec": {
      "display_name": "Python 3 [3.10]",
      "language": "python",
      "name": "python3"
    },
    "language_info": {
      "codemirror_mode": {
        "name": "ipython",
        "version": 3
      },
      "file_extension": ".py",
      "mimetype": "text/x-python",
      "name": "python",
      "nbconvert_exporter": "python",
      "pygments_lexer": "ipython3",
      "version": "3.10.2"
    },
    "colab": {
      "provenance": [],
      "include_colab_link": true
    }
  },
  "nbformat": 4,
  "nbformat_minor": 5
}